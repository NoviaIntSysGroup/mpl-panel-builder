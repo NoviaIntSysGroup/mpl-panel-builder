{
 "cells": [
  {
   "cell_type": "code",
   "execution_count": 1,
   "metadata": {},
   "outputs": [],
   "source": [
    "import matplotlib.pyplot as plt\n",
    "\n",
    "# Ensures that the notebook reloads modules automatically before executing code\n",
    "# This is useful for development purposes\n",
    "%load_ext autoreload\n",
    "%autoreload 2"
   ]
  },
  {
   "cell_type": "code",
   "execution_count": null,
   "metadata": {},
   "outputs": [],
   "source": [
    "# Import necessary libraries\n",
    "import numpy as np\n",
    "\n",
    "from mpl_panel_builder.panel_builder import PanelBuilder\n",
    "\n",
    "# Define panel configuration\n",
    "config = {\n",
    "    \"panel_dimensions_cm\": {\"width\": 8.0, \"height\": 6.0},\n",
    "    \"panel_margins_cm\": {\"left\": 1.5, \"right\": 0.5, \"top\": 0.5, \"bottom\": 1.5},\n",
    "    \"font_sizes_pt\": {\"axes\": 8, \"text\": 6},\n",
    "    \"ax_separation_cm\": {\"x\": 0.5, \"y\": 0.5}\n",
    "}\n",
    "\n",
    "class DemoPanelBuilder(PanelBuilder):\n",
    "    n_cols = 1\n",
    "    n_rows = 1\n",
    "    \n",
    "    def build_panel(self) -> None:\n",
    "        \"\"\"Creates the actual plot content for each subplot in the panel.\"\"\"\n",
    "        # Generate some example data\n",
    "        x = np.linspace(0, 10, 100)\n",
    "        y = np.sin(x)\n",
    "        \n",
    "        # Line plot\n",
    "        ax00 = self.axs_grid[0][0]\n",
    "        ax00.plot(x, y)\n",
    "        ax00.set_title('Line Plot')\n",
    "        ax00.set_xlabel('x')\n",
    "        ax00.set_ylabel('sin(x)')\n",
    "\n",
    "# Create and display the panel\n",
    "fig = DemoPanelBuilder(config, debug=True)()\n",
    "fig"
   ]
  },
  {
   "cell_type": "code",
   "execution_count": 15,
   "metadata": {},
   "outputs": [],
   "source": [
    "plt.close(fig)"
   ]
  },
  {
   "cell_type": "code",
   "execution_count": 33,
   "metadata": {},
   "outputs": [],
   "source": [
    "fig.savefig(\"demo.png\", dpi=300)"
   ]
  }
 ],
 "metadata": {
  "kernelspec": {
   "display_name": "mpl-panel-builder",
   "language": "python",
   "name": "python3"
  },
  "language_info": {
   "codemirror_mode": {
    "name": "ipython",
    "version": 3
   },
   "file_extension": ".py",
   "mimetype": "text/x-python",
   "name": "python",
   "nbconvert_exporter": "python",
   "pygments_lexer": "ipython3",
   "version": "3.12.11"
  }
 },
 "nbformat": 4,
 "nbformat_minor": 2
}
