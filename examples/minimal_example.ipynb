{
 "cells": [
  {
   "cell_type": "code",
   "execution_count": 1,
   "metadata": {},
   "outputs": [],
   "source": [
    "from mpl_panel_builder.panel_builder import PanelBuilder\n",
    "\n",
    "# Ensures that the notebook reloads modules automatically before executing code\n",
    "# This is useful for development purposes\n",
    "%load_ext autoreload\n",
    "%autoreload 2"
   ]
  },
  {
   "cell_type": "code",
   "execution_count": 2,
   "metadata": {},
   "outputs": [],
   "source": [
    "\n",
    "# 1. Define the configuration\n",
    "config = {\n",
    "    \"panel_dimensions_cm\": {\n",
    "        \"width\": 8.0,   # 8 cm wide\n",
    "        \"height\": 6.0,  # 6 cm tall\n",
    "    },\n",
    "    \"panel_margins_cm\": {\n",
    "        \"top\": 0.5,\n",
    "        \"bottom\": 1.0,\n",
    "        \"left\": 1.0,\n",
    "        \"right\": 0.5,\n",
    "    },\n",
    "\n",
    "    \"font_sizes_pt\": {\n",
    "        \"axes\": 10,  # font size for axis labels and ticks\n",
    "        \"text\": 9,   # font size for other text elements\n",
    "    }\n",
    "}\n",
    "\n",
    "# 2. Create a panel subclass\n",
    "class MyPanel(PanelBuilder):\n",
    "    # Required class attributes\n",
    "    _panel_name = \"my_panel\"\n",
    "    _n_rows = 1\n",
    "    _n_cols = 1\n",
    "\n",
    "    # Required class method (this is where you define your content)\n",
    "    def build_panel(self) -> None:\n",
    "        \"\"\"Populate the panel with plot content.\"\"\"\n",
    "        # Access the single axis\n",
    "        ax = self.axs[0][0]\n",
    "\n",
    "        # Add your plotting code here\n",
    "        ax.plot([1, 2, 3], [1, 2, 3])\n",
    "        ax.set_xlabel(\"X axis\")\n",
    "        ax.set_ylabel(\"Y axis\")"
   ]
  },
  {
   "cell_type": "code",
   "execution_count": null,
   "metadata": {},
   "outputs": [],
   "source": [
    "# 3. Create and build the panel\n",
    "panel = MyPanel(config)\n",
    "fig = panel()\n",
    "fig"
   ]
  }
 ],
 "metadata": {
  "kernelspec": {
   "display_name": "mpl-panel-builder",
   "language": "python",
   "name": "python3"
  },
  "language_info": {
   "codemirror_mode": {
    "name": "ipython",
    "version": 3
   },
   "file_extension": ".py",
   "mimetype": "text/x-python",
   "name": "python",
   "nbconvert_exporter": "python",
   "pygments_lexer": "ipython3",
   "version": "3.12.11"
  }
 },
 "nbformat": 4,
 "nbformat_minor": 2
}
