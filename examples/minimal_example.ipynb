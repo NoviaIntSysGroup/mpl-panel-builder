{
 "cells": [
  {
   "cell_type": "code",
   "execution_count": null,
   "metadata": {},
   "outputs": [],
   "source": [
    "import os\n",
    "from pathlib import Path\n",
    "\n",
    "import numpy as np\n",
    "\n",
    "from mpl_panel_builder.panel_builder import PanelBuilder\n",
    "\n",
    "# Ensures that the notebook reloads modules automatically before executing code\n",
    "# This is useful for development purposes\n",
    "%load_ext autoreload\n",
    "%autoreload 2"
   ]
  },
  {
   "cell_type": "code",
   "execution_count": 14,
   "metadata": {},
   "outputs": [],
   "source": [
    "\n",
    "# 1. Define the configuration\n",
    "config = {\n",
    "    # Required keys:\n",
    "    \"panel_dimensions_cm\": {\n",
    "        \"width\": 8.0,   # 8 cm wide\n",
    "        \"height\": 6.0,  # 6 cm tall\n",
    "    },\n",
    "    \"panel_margins_cm\": {\n",
    "        \"top\": 0.5,\n",
    "        \"bottom\": 1.5,\n",
    "        \"left\": 1.5,\n",
    "        \"right\": 0.5,\n",
    "    },\n",
    "    \"font_sizes_pt\": {\n",
    "        \"axes\": 10,  # font size for axis labels and ticks\n",
    "        \"text\": 8,   # font size for other text elements\n",
    "    },\n",
    "    # Optional keys:\n",
    "    \"panel_output\": {\n",
    "        \"directory\": Path(os.getcwd()),  # Where to save the panel\n",
    "        \"format\": \"png\",                 # Format of the panel\n",
    "        \"dpi\": 600,                      # DPI of the panel\n",
    "    }\n",
    "}\n",
    "\n",
    "# 2. Create a panel subclass\n",
    "class MyPanel(PanelBuilder):\n",
    "    # Required class attributes\n",
    "    _panel_name = \"my_panel\"\n",
    "    _n_rows = 1\n",
    "    _n_cols = 1\n",
    "\n",
    "    # Required class method (this is where you define your content)\n",
    "    def build_panel(self) -> None:\n",
    "        \"\"\"Populate the panel with plot content.\"\"\"\n",
    "        # Access the single axis\n",
    "        ax = self.axs[0][0]\n",
    "\n",
    "        # Add your plotting code here\n",
    "        x = np.linspace(-2, 2, 101)\n",
    "        y = x**2\n",
    "        ax.plot(x, y, label=\"$y=x^2$\")\n",
    "        ax.set_xlabel(\"X axis\")\n",
    "        ax.set_ylabel(\"Y axis\")\n",
    "        ax.legend(loc=\"lower right\")"
   ]
  },
  {
   "cell_type": "code",
   "execution_count": null,
   "metadata": {},
   "outputs": [],
   "source": [
    "# 3. Create and build the panel\n",
    "panel = MyPanel(config)\n",
    "fig = panel()\n",
    "fig"
   ]
  }
 ],
 "metadata": {
  "kernelspec": {
   "display_name": "mpl-panel-builder",
   "language": "python",
   "name": "python3"
  },
  "language_info": {
   "codemirror_mode": {
    "name": "ipython",
    "version": 3
   },
   "file_extension": ".py",
   "mimetype": "text/x-python",
   "name": "python",
   "nbconvert_exporter": "python",
   "pygments_lexer": "ipython3",
   "version": "3.12.11"
  }
 },
 "nbformat": 4,
 "nbformat_minor": 2
}
